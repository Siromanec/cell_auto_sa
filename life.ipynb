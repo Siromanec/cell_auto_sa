{
 "cells": [
  {
   "cell_type": "code",
   "execution_count": 37,
   "metadata": {},
   "outputs": [],
   "source": [
    "import numpy as np\n",
    "from scipy import signal\n",
    "from random import randint"
   ]
  },
  {
   "cell_type": "code",
   "execution_count": 179,
   "metadata": {},
   "outputs": [
    {
     "ename": "KeyboardInterrupt",
     "evalue": "",
     "output_type": "error",
     "traceback": [
      "\u001b[1;31m---------------------------------------------------------------------------\u001b[0m",
      "\u001b[1;31mKeyboardInterrupt\u001b[0m                         Traceback (most recent call last)",
      "Cell \u001b[1;32mIn[179], line 87\u001b[0m\n\u001b[0;32m     84\u001b[0m             \u001b[39m# figures[last_figure] = figure.copy()\u001b[39;00m\n\u001b[0;32m     85\u001b[0m             \u001b[39m# last_figure += 1\u001b[39;00m\n\u001b[0;32m     86\u001b[0m     \u001b[39mreturn\u001b[39;00m figures\n\u001b[1;32m---> 87\u001b[0m figs \u001b[39m=\u001b[39m generate_figures(\u001b[39m4\u001b[39;49m, \u001b[39m1000\u001b[39;49m)\n\u001b[0;32m     88\u001b[0m \u001b[39mfor\u001b[39;00m i \u001b[39min\u001b[39;00m (figs):\n\u001b[0;32m     89\u001b[0m     \u001b[39mprint\u001b[39m(i)\n",
      "Cell \u001b[1;32mIn[179], line 77\u001b[0m, in \u001b[0;36mgenerate_figures\u001b[1;34m(size, fig_count, max_skip)\u001b[0m\n\u001b[0;32m     75\u001b[0m figures \u001b[39m=\u001b[39m []\n\u001b[0;32m     76\u001b[0m \u001b[39mfor\u001b[39;00m i \u001b[39min\u001b[39;00m \u001b[39mrange\u001b[39m(fig_count):\n\u001b[1;32m---> 77\u001b[0m     figure\u001b[39m=\u001b[39mgenerate_figure(size)\n\u001b[0;32m     78\u001b[0m     \u001b[39m# print(figure)\u001b[39;00m\n\u001b[0;32m     79\u001b[0m     \u001b[39m# print(figures)\u001b[39;00m\n\u001b[0;32m     80\u001b[0m     \u001b[39m# print(figure not in figures)\u001b[39;00m\n\u001b[0;32m     81\u001b[0m     \u001b[39mif\u001b[39;00m \u001b[39mnot\u001b[39;00m is_in_figures(figure, figures):\n",
      "Cell \u001b[1;32mIn[179], line 17\u001b[0m, in \u001b[0;36mgenerate_figure\u001b[1;34m(size, max_skip)\u001b[0m\n\u001b[0;32m     15\u001b[0m \u001b[39mdef\u001b[39;00m \u001b[39mgenerate_figure\u001b[39m(size: \u001b[39mint\u001b[39m, max_skip: \u001b[39mint\u001b[39m \u001b[39m=\u001b[39m \u001b[39m0\u001b[39m):\n\u001b[0;32m     16\u001b[0m     last_painted \u001b[39m=\u001b[39m np\u001b[39m.\u001b[39marray((\u001b[39m0\u001b[39m,\u001b[39m0\u001b[39m))\n\u001b[1;32m---> 17\u001b[0m     painted \u001b[39m=\u001b[39m \u001b[39m1\u001b[39m\n\u001b[0;32m     18\u001b[0m     skips_made \u001b[39m=\u001b[39m \u001b[39m0\u001b[39m\n\u001b[0;32m     19\u001b[0m     figure \u001b[39m=\u001b[39m np\u001b[39m.\u001b[39mzeros((size,\u001b[39m2\u001b[39m))\n",
      "Cell \u001b[1;32mIn[179], line 17\u001b[0m, in \u001b[0;36mgenerate_figure\u001b[1;34m(size, max_skip)\u001b[0m\n\u001b[0;32m     15\u001b[0m \u001b[39mdef\u001b[39;00m \u001b[39mgenerate_figure\u001b[39m(size: \u001b[39mint\u001b[39m, max_skip: \u001b[39mint\u001b[39m \u001b[39m=\u001b[39m \u001b[39m0\u001b[39m):\n\u001b[0;32m     16\u001b[0m     last_painted \u001b[39m=\u001b[39m np\u001b[39m.\u001b[39marray((\u001b[39m0\u001b[39m,\u001b[39m0\u001b[39m))\n\u001b[1;32m---> 17\u001b[0m     painted \u001b[39m=\u001b[39m \u001b[39m1\u001b[39m\n\u001b[0;32m     18\u001b[0m     skips_made \u001b[39m=\u001b[39m \u001b[39m0\u001b[39m\n\u001b[0;32m     19\u001b[0m     figure \u001b[39m=\u001b[39m np\u001b[39m.\u001b[39mzeros((size,\u001b[39m2\u001b[39m))\n",
      "File \u001b[1;32m_pydevd_bundle/pydevd_cython.pyx:1457\u001b[0m, in \u001b[0;36m_pydevd_bundle.pydevd_cython.SafeCallWrapper.__call__\u001b[1;34m()\u001b[0m\n",
      "File \u001b[1;32m_pydevd_bundle/pydevd_cython.pyx:701\u001b[0m, in \u001b[0;36m_pydevd_bundle.pydevd_cython.PyDBFrame.trace_dispatch\u001b[1;34m()\u001b[0m\n",
      "File \u001b[1;32m_pydevd_bundle/pydevd_cython.pyx:1395\u001b[0m, in \u001b[0;36m_pydevd_bundle.pydevd_cython.PyDBFrame.trace_dispatch\u001b[1;34m()\u001b[0m\n",
      "File \u001b[1;32m_pydevd_bundle/pydevd_cython.pyx:1344\u001b[0m, in \u001b[0;36m_pydevd_bundle.pydevd_cython.PyDBFrame.trace_dispatch\u001b[1;34m()\u001b[0m\n",
      "File \u001b[1;32m_pydevd_bundle/pydevd_cython.pyx:312\u001b[0m, in \u001b[0;36m_pydevd_bundle.pydevd_cython.PyDBFrame.do_wait_suspend\u001b[1;34m()\u001b[0m\n",
      "File \u001b[1;32mc:\\Users\\ADMIN\\AppData\\Local\\Programs\\Python\\Python310\\lib\\site-packages\\debugpy\\_vendored\\pydevd\\pydevd.py:2067\u001b[0m, in \u001b[0;36mPyDB.do_wait_suspend\u001b[1;34m(self, thread, frame, event, arg, exception_type)\u001b[0m\n\u001b[0;32m   2064\u001b[0m             from_this_thread\u001b[39m.\u001b[39mappend(frame_custom_thread_id)\n\u001b[0;32m   2066\u001b[0m     \u001b[39mwith\u001b[39;00m \u001b[39mself\u001b[39m\u001b[39m.\u001b[39m_threads_suspended_single_notification\u001b[39m.\u001b[39mnotify_thread_suspended(thread_id, stop_reason):\n\u001b[1;32m-> 2067\u001b[0m         keep_suspended \u001b[39m=\u001b[39m \u001b[39mself\u001b[39;49m\u001b[39m.\u001b[39;49m_do_wait_suspend(thread, frame, event, arg, suspend_type, from_this_thread, frames_tracker)\n\u001b[0;32m   2069\u001b[0m frames_list \u001b[39m=\u001b[39m \u001b[39mNone\u001b[39;00m\n\u001b[0;32m   2071\u001b[0m \u001b[39mif\u001b[39;00m keep_suspended:\n\u001b[0;32m   2072\u001b[0m     \u001b[39m# This means that we should pause again after a set next statement.\u001b[39;00m\n",
      "File \u001b[1;32mc:\\Users\\ADMIN\\AppData\\Local\\Programs\\Python\\Python310\\lib\\site-packages\\debugpy\\_vendored\\pydevd\\pydevd.py:2103\u001b[0m, in \u001b[0;36mPyDB._do_wait_suspend\u001b[1;34m(self, thread, frame, event, arg, suspend_type, from_this_thread, frames_tracker)\u001b[0m\n\u001b[0;32m   2100\u001b[0m         \u001b[39mself\u001b[39m\u001b[39m.\u001b[39m_call_input_hook()\n\u001b[0;32m   2102\u001b[0m     \u001b[39mself\u001b[39m\u001b[39m.\u001b[39mprocess_internal_commands()\n\u001b[1;32m-> 2103\u001b[0m     time\u001b[39m.\u001b[39;49msleep(\u001b[39m0.01\u001b[39;49m)\n\u001b[0;32m   2105\u001b[0m \u001b[39mself\u001b[39m\u001b[39m.\u001b[39mcancel_async_evaluation(get_current_thread_id(thread), \u001b[39mstr\u001b[39m(\u001b[39mid\u001b[39m(frame)))\n\u001b[0;32m   2107\u001b[0m \u001b[39m# process any stepping instructions\u001b[39;00m\n",
      "\u001b[1;31mKeyboardInterrupt\u001b[0m: "
     ]
    }
   ],
   "source": [
    "def normalize_figure(figure):\n",
    "    # print(figure)\n",
    "    min_idx = np.argmin(figure, axis=0)\n",
    "    min_i, min_j = figure[min_idx]\n",
    "    min_i = min_i[0]\n",
    "    min_j = min_j[1]\n",
    "\n",
    "    # print(figure[min_idx])\n",
    "    # print(min_i, min_j)\n",
    "\n",
    "    \n",
    "    boxed_figure = np.array([np.array((tup[0]-min_i, tup[1]-min_j)) for tup in figure])\n",
    "    return (boxed_figure)\n",
    "\n",
    "def generate_figure(size: int, max_skip: int = 0):\n",
    "    last_painted = np.array((0,0))\n",
    "    painted = 1\n",
    "    skips_made = 0\n",
    "    figure = np.zeros((size,2))\n",
    "    figure[0] = last_painted\n",
    "    moves = [lambda i, j: (i+1, j),\n",
    "     lambda i, j: (i+1, j+1),\n",
    "     lambda i, j: (i+1, j-1),\n",
    "     lambda i, j: (i, j+1),\n",
    "     lambda i, j: (i, j-1),\n",
    "     lambda i, j: (i-1, j),\n",
    "     lambda i, j: (i-1, j+1),\n",
    "     lambda i, j: (i-1, j-1)\n",
    "     ]\n",
    "    while painted != size:\n",
    "        next_move = randint(0, len(moves)-1)\n",
    "        painted_proposal = np.array(moves[next_move](*last_painted))\n",
    "        if painted in figure:\n",
    "            continue\n",
    "        last_painted = painted_proposal\n",
    "        # print(last_painted)\n",
    "        figure[painted] = last_painted.copy()\n",
    "\n",
    "        painted += 1\n",
    "\n",
    "    # print(figure)\n",
    "    return normalize_figure(figure)\n",
    "# generate_figure(4)\n",
    "def is_in_figures(in_fig, figures):\n",
    "    if len(figures) == 0:\n",
    "        return False\n",
    "\n",
    "    for fig in figures:\n",
    "        # is_in |= (fig == figure)\n",
    "        count = 0\n",
    "        # print(\"a\"*100)\n",
    "        # print(fig, in_fig)\n",
    "        for in_piece in in_fig:\n",
    "            # print(\"b\"*100)\n",
    "\n",
    "            # print(piece is in fig)\n",
    "            # print(piece)\n",
    "\n",
    "            for piece in fig:\n",
    "                # print(in_piece, piece, in_piece[0] == piece[0] and in_piece[1] == piece[1])\n",
    "                if ((in_piece[0] == piece[0]) and (in_piece[1] == piece[1])):\n",
    "                    count+=1\n",
    "                    continue\n",
    "            \n",
    "        # print(count, len(in_fig))\n",
    "        if count == len(in_fig):\n",
    "            return True\n",
    "\n",
    "    return False\n",
    "# a =([[0,0]])\n",
    "\n",
    "def generate_figures(size: int, fig_count: int, max_skip: int = 0):\n",
    "    # figures = np.zeros((fig_count, size, 2))\n",
    "    last_figure = 0\n",
    "    figures = []\n",
    "    for i in range(fig_count):\n",
    "        figure=generate_figure(size)\n",
    "        # print(figure)\n",
    "        # print(figures)\n",
    "        # print(figure not in figures)\n",
    "        if not is_in_figures(figure, figures):\n",
    "\n",
    "            figures.append(figure)\n",
    "            # figures[last_figure] = figure.copy()\n",
    "            # last_figure += 1\n",
    "    return figures\n",
    "figs = generate_figures(4, 1000)\n",
    "for i in (figs):\n",
    "    print(i)\n",
    "# print(figs)\n",
    "        \n"
   ]
  },
  {
   "cell_type": "code",
   "execution_count": 171,
   "metadata": {},
   "outputs": [
    {
     "name": "stdout",
     "output_type": "stream",
     "text": [
      "(4, 3)\n",
      "4 4\n",
      "True\n",
      "[(0, 0), (1, 0), (2, 0)]\n"
     ]
    }
   ],
   "source": [
    "fig_a = np.array([[1,0, 0], \n",
    "                  [1,0, 0], \n",
    "                  [1,0, 0], \n",
    "                  [1,0, 0]])\n",
    "fig_b = np.array([[0,1, 0], \n",
    "                  [0,1, 0], \n",
    "                  [0,1, 0]])\n",
    "print(fig_a.shape)\n",
    "print(is_in_figures(fig_a, [fig_a]))\n",
    "\n",
    "def confine(fig: np.array(np.array)):\n",
    "\n",
    "    max_i = -1\n",
    "    min_i =  float(\"inf\")\n",
    "    max_j = -1\n",
    "    min_j = float(\"inf\")\n",
    "\n",
    "    coords = []\n",
    "    for i, row in enumerate(fig):\n",
    "        for j, el in enumerate(row):\n",
    "            if el == 1:\n",
    "                coords.append((i,j))\n",
    "                # print(i, j)\n",
    "                max_i = max(max_i, i)\n",
    "                max_j = max(max_j, j)\n",
    "                min_i = min(min_i, i)\n",
    "                min_j = min(min_j, j)\n",
    "    \n",
    "    # print(max_i, min_i, max_j, max_j)\n",
    "    boxed_figure = [(tup[0]-min_i, tup[1]-min_j) for tup in coords]\n",
    "    return boxed_figure\n",
    "\n",
    "    # [for i in range(fig.shape[i])]\n",
    "print(confine(fig_b))\n",
    "\n"
   ]
  },
  {
   "cell_type": "code",
   "execution_count": 26,
   "metadata": {},
   "outputs": [
    {
     "name": "stdout",
     "output_type": "stream",
     "text": [
      "[[ 1.   1.   1.  -0.5 -0.5 -0.5]\n",
      " [ 1.   1.   1.  -0.5 -0.5 -0.5]\n",
      " [ 1.   1.   1.  -0.5 -0.5 -0.5]\n",
      " [-0.5 -0.5 -0.5  1.   1.   1. ]\n",
      " [-0.5 -0.5 -0.5  1.   1.   1. ]\n",
      " [-0.5 -0.5 -0.5  1.   1.   1. ]]\n",
      "1 0\n"
     ]
    }
   ],
   "source": [
    "print(np.corrcoef(x,y))\n",
    "corr = (signal.correlate2d(x, y, mode='same'))\n",
    "b, a = np.unravel_index(np.argmax(corr), corr.shape)\n",
    "print(b, a)"
   ]
  }
 ],
 "metadata": {
  "kernelspec": {
   "display_name": "Python 3",
   "language": "python",
   "name": "python3"
  },
  "language_info": {
   "codemirror_mode": {
    "name": "ipython",
    "version": 3
   },
   "file_extension": ".py",
   "mimetype": "text/x-python",
   "name": "python",
   "nbconvert_exporter": "python",
   "pygments_lexer": "ipython3",
   "version": "3.10.6"
  },
  "orig_nbformat": 4
 },
 "nbformat": 4,
 "nbformat_minor": 2
}
