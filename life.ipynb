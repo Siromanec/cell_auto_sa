{
 "cells": [
  {
   "cell_type": "code",
   "execution_count": 49,
   "metadata": {},
   "outputs": [],
   "source": [
    "import numpy as np\n",
    "from scipy import signal\n",
    "from random import randint\n",
    "import pandas as pd"
   ]
  },
  {
   "cell_type": "code",
   "execution_count": 53,
   "metadata": {},
   "outputs": [],
   "source": [
    "def normalize_figure(figure):\n",
    "    # print(figure)\n",
    "    min_idx = np.argmin(figure, axis=0)\n",
    "    min_i, min_j = figure[min_idx]\n",
    "    min_i = min_i[0]\n",
    "    min_j = min_j[1]\n",
    "\n",
    "    # print(figure[min_idx])\n",
    "    # print(min_i, min_j)\n",
    "\n",
    "    \n",
    "    boxed_figure = np.array([np.array((tup[0]-min_i, tup[1]-min_j)) for tup in figure])\n",
    "    return (boxed_figure)\n",
    "\n",
    "def generate_figure(size: int, max_skip: int = 0):\n",
    "    last_painted = np.array((0,0))\n",
    "    painted = 1\n",
    "    skips_made = 0\n",
    "    figure = np.zeros((size,2))\n",
    "    figure[0] = last_painted\n",
    "    moves = [lambda i, j: (i+1, j),\n",
    "     lambda i, j: (i+1, j+1),\n",
    "     lambda i, j: (i+1, j-1),\n",
    "     lambda i, j: (i, j+1),\n",
    "     lambda i, j: (i, j-1),\n",
    "     lambda i, j: (i-1, j),\n",
    "     lambda i, j: (i-1, j+1),\n",
    "     lambda i, j: (i-1, j-1)\n",
    "     ]\n",
    "    while painted < size:\n",
    "        next_move = randint(0, len(moves)-1)\n",
    "        painted_proposal = np.array(moves[next_move](*last_painted))\n",
    "        # np.isin(figure, painted_proposal)\n",
    "        if (painted_proposal == figure).all(1).any():\n",
    "            continue\n",
    "        last_painted = painted_proposal\n",
    "        # print(last_painted)\n",
    "        figure[painted] = last_painted.copy()\n",
    "\n",
    "        painted += 1\n",
    "\n",
    "    # print(figure)\n",
    "    return normalize_figure(figure)\n",
    "# generate_figure(4)\n",
    "def is_in_figures(in_fig, figures):\n",
    "    if len(figures) == 0:\n",
    "        return False\n",
    "    close = False\n",
    "    for fig in figures:\n",
    "        close |= np.allclose(fig, in_fig)\n",
    "    return close\n",
    "# a =([[0,0]])\n",
    "\n",
    "def generate_figures(size: int, fig_count: int, max_skip: int = 0):\n",
    "    figures = []\n",
    "    for i in range(fig_count):\n",
    "        figure = generate_figure(size)\n",
    "        if not is_in_figures(figure, figures):\n",
    "            figures.append(figure)\n",
    "    return figures\n",
    "\n",
    "# figs = generate_figures(6, 1000)\n",
    "# for i in (figs):\n",
    "    # print(i)\n",
    "# print(figs)\n",
    "        \n"
   ]
  },
  {
   "cell_type": "code",
   "execution_count": 54,
   "metadata": {},
   "outputs": [],
   "source": [
    "figures = np.array(generate_figures(6, 1000))"
   ]
  },
  {
   "cell_type": "code",
   "execution_count": 55,
   "metadata": {},
   "outputs": [],
   "source": [
    "def figures_to_csv(figures: np.array(np.array(np.array))):\n",
    "    two_d =  np.array(list([np.array(list([item for sublist in figure for item in sublist])) for figure in figures]))\n",
    "\n",
    "#     DF = pd.DataFrame(two_d)\n",
    "# # # save the dataframe as a csv file\n",
    "#     DF.to_csv(f\"figures_size{len(two_d[0])}.csv\")\n",
    "    np.savetxt(f\"figures_size{len(two_d[0])//2}.csv\", two_d,\n",
    "                delimiter = \",\", fmt='%1.0f')\n",
    "figures_to_csv(figures)"
   ]
  },
  {
   "cell_type": "code",
   "execution_count": 63,
   "metadata": {},
   "outputs": [
    {
     "name": "stdout",
     "output_type": "stream",
     "text": [
      "[(4, 0), (3, 1), (2, 0), (2, 1), (1, 2), (0, 2)]\n",
      "4 0\n",
      "3 1\n",
      "2 0\n",
      "2 1\n",
      "1 2\n",
      "0 2\n",
      "[[0. 0. 1. 0. 0. 0.]\n",
      " [0. 0. 1. 0. 0. 0.]\n",
      " [1. 1. 0. 0. 0. 0.]\n",
      " [0. 1. 0. 0. 0. 0.]\n",
      " [1. 0. 0. 0. 0. 0.]\n",
      " [0. 0. 0. 0. 0. 0.]]\n"
     ]
    }
   ],
   "source": [
    "c = [4,0,3,1,2,0,2,1,1,2,0,2]\n",
    "a = np.zeros((len(c)//2,len(c)//2))\n",
    "\n",
    "b = [(c[i], c[i+1]) for i in range(0, len(c)-1, 2)]\n",
    "# b = [(1,0) ,(0,1), (1,2), (2,2), (1,1) ,(0,2)]\n",
    "print(b)\n",
    "for i,j in b:\n",
    "    print(i,j)\n",
    "    a[i,j]=1\n",
    "\n",
    "print (a)\n"
   ]
  },
  {
   "cell_type": "code",
   "execution_count": 3,
   "metadata": {},
   "outputs": [
    {
     "name": "stdout",
     "output_type": "stream",
     "text": [
      "(4, 3)\n",
      "True\n",
      "True\n",
      "[(0, 0), (1, 0), (2, 0)]\n"
     ]
    }
   ],
   "source": [
    "fig_a = np.array([[1,0, 0], \n",
    "                  [1,0, 0], \n",
    "                  [1,0, 0], \n",
    "                  [1,0, 0]])\n",
    "fig_b = np.array([[0,1, 0], \n",
    "                  [0,1, 0], \n",
    "                  [0,1, 0]])\n",
    "print(fig_a.shape)\n",
    "print(is_in_figures(fig_a, [fig_a]))\n",
    "print(np.allclose(fig_a, fig_a))\n",
    "def confine(fig: np.array(np.array)):\n",
    "\n",
    "    max_i = -1\n",
    "    min_i =  float(\"inf\")\n",
    "    max_j = -1\n",
    "    min_j = float(\"inf\")\n",
    "\n",
    "    coords = []\n",
    "    for i, row in enumerate(fig):\n",
    "        for j, el in enumerate(row):\n",
    "            if el == 1:\n",
    "                coords.append((i,j))\n",
    "                # print(i, j)\n",
    "                max_i = max(max_i, i)\n",
    "                max_j = max(max_j, j)\n",
    "                min_i = min(min_i, i)\n",
    "                min_j = min(min_j, j)\n",
    "    \n",
    "    # print(max_i, min_i, max_j, max_j)\n",
    "    boxed_figure = [(tup[0]-min_i, tup[1]-min_j) for tup in coords]\n",
    "    return boxed_figure\n",
    "\n",
    "    # [for i in range(fig.shape[i])]\n",
    "print(confine(fig_b))\n",
    "\n"
   ]
  },
  {
   "cell_type": "code",
   "execution_count": 4,
   "metadata": {},
   "outputs": [
    {
     "ename": "NameError",
     "evalue": "name 'x' is not defined",
     "output_type": "error",
     "traceback": [
      "\u001b[1;31m---------------------------------------------------------------------------\u001b[0m",
      "\u001b[1;31mNameError\u001b[0m                                 Traceback (most recent call last)",
      "Cell \u001b[1;32mIn[4], line 1\u001b[0m\n\u001b[1;32m----> 1\u001b[0m \u001b[39mprint\u001b[39m(np\u001b[39m.\u001b[39mcorrcoef(x,y))\n\u001b[0;32m      2\u001b[0m corr \u001b[39m=\u001b[39m (signal\u001b[39m.\u001b[39mcorrelate2d(x, y, mode\u001b[39m=\u001b[39m\u001b[39m'\u001b[39m\u001b[39msame\u001b[39m\u001b[39m'\u001b[39m))\n\u001b[0;32m      3\u001b[0m b, a \u001b[39m=\u001b[39m np\u001b[39m.\u001b[39munravel_index(np\u001b[39m.\u001b[39margmax(corr), corr\u001b[39m.\u001b[39mshape)\n",
      "\u001b[1;31mNameError\u001b[0m: name 'x' is not defined"
     ]
    }
   ],
   "source": [
    "print(np.corrcoef(x,y))\n",
    "corr = (signal.correlate2d(x, y, mode='same'))\n",
    "b, a = np.unravel_index(np.argmax(corr), corr.shape)\n",
    "print(b, a)"
   ]
  }
 ],
 "metadata": {
  "kernelspec": {
   "display_name": "Python 3",
   "language": "python",
   "name": "python3"
  },
  "language_info": {
   "codemirror_mode": {
    "name": "ipython",
    "version": 3
   },
   "file_extension": ".py",
   "mimetype": "text/x-python",
   "name": "python",
   "nbconvert_exporter": "python",
   "pygments_lexer": "ipython3",
   "version": "3.10.6"
  },
  "orig_nbformat": 4
 },
 "nbformat": 4,
 "nbformat_minor": 2
}
